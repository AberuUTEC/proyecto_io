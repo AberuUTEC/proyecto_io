{
 "cells": [
  {
   "cell_type": "markdown",
   "id": "95b12211-a78c-412c-89d7-a3dd45596abc",
   "metadata": {},
   "source": [
    "using JuMP\n",
    "using Cbc"
   ]
  },
  {
   "cell_type": "code",
   "execution_count": null,
   "id": "c6682d2f-f734-4e69-a719-ef8b69be7b0a",
   "metadata": {},
   "outputs": [],
   "source": [
    "m = Model(Cbc.Optimizer)"
   ]
  },
  {
   "cell_type": "code",
   "execution_count": null,
   "id": "d9dd111f-7f8d-4447-8a87-78c2a3f23f89",
   "metadata": {},
   "outputs": [],
   "source": [
    "@variable(modelo, x[i = 1:2], Bin) #Int\n",
    "@objective(modelo, Max, sum(coef_obj[i]*x[i] for i in 1:2))\n",
    "@constraint(modelo, sum(coef_rest1[i]*x[i] for i in 1:2) <= size_der_rest[1])"
   ]
  }
 ],
 "metadata": {
  "kernelspec": {
   "display_name": "Julia 1.7.2",
   "language": "julia",
   "name": "julia-1.7"
  },
  "language_info": {
   "file_extension": ".jl",
   "mimetype": "application/julia",
   "name": "julia",
   "version": "1.7.2"
  }
 },
 "nbformat": 4,
 "nbformat_minor": 5
}
